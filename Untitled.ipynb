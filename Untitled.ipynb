{
 "cells": [
  {
   "cell_type": "code",
   "execution_count": 64,
   "id": "e8972886-b063-461b-8d16-4dca37cbfcda",
   "metadata": {},
   "outputs": [],
   "source": [
    "import pandas as pd"
   ]
  },
  {
   "cell_type": "code",
   "execution_count": 68,
   "id": "359fa936-4888-48e8-b9cf-fca4cfa919db",
   "metadata": {},
   "outputs": [],
   "source": [
    "players = pd.read_csv(\"data/0-1-IneriaRanks.csv\")"
   ]
  },
  {
   "cell_type": "code",
   "execution_count": null,
   "id": "4174c3cc-576e-4498-a662-4f18c3e5d28c",
   "metadata": {},
   "outputs": [],
   "source": []
  }
 ],
 "metadata": {
  "kernelspec": {
   "display_name": "Python 3 (ipykernel)",
   "language": "python",
   "name": "python3"
  },
  "language_info": {
   "codemirror_mode": {
    "name": "ipython",
    "version": 3
   },
   "file_extension": ".py",
   "mimetype": "text/x-python",
   "name": "python",
   "nbconvert_exporter": "python",
   "pygments_lexer": "ipython3",
   "version": "3.11.5"
  }
 },
 "nbformat": 4,
 "nbformat_minor": 5
}
